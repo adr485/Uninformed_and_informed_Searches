{
 "cells": [
  {
   "cell_type": "code",
   "execution_count": 1,
   "metadata": {},
   "outputs": [
    {
     "ename": "ValueError",
     "evalue": "invalid literal for int() with base 10: ''",
     "output_type": "error",
     "traceback": [
      "\u001b[1;31m---------------------------------------------------------------------------\u001b[0m",
      "\u001b[1;31mValueError\u001b[0m                                Traceback (most recent call last)",
      "\u001b[1;32m~\\AppData\\Local\\Temp\\ipykernel_11028\\3147113265.py\u001b[0m in \u001b[0;36m<module>\u001b[1;34m\u001b[0m\n\u001b[0;32m      3\u001b[0m     \u001b[1;32mreturn\u001b[0m \u001b[0mkeys\u001b[0m\u001b[1;33m[\u001b[0m\u001b[1;36m0\u001b[0m\u001b[1;33m]\u001b[0m\u001b[1;33m\u001b[0m\u001b[1;33m\u001b[0m\u001b[0m\n\u001b[0;32m      4\u001b[0m \u001b[1;33m\u001b[0m\u001b[0m\n\u001b[1;32m----> 5\u001b[1;33m \u001b[0mn\u001b[0m\u001b[1;33m=\u001b[0m\u001b[0mint\u001b[0m\u001b[1;33m(\u001b[0m\u001b[0minput\u001b[0m\u001b[1;33m(\u001b[0m\u001b[1;34m\"Eneter num of nodes-\"\u001b[0m\u001b[1;33m)\u001b[0m\u001b[1;33m)\u001b[0m\u001b[1;33m\u001b[0m\u001b[1;33m\u001b[0m\u001b[0m\n\u001b[0m\u001b[0;32m      6\u001b[0m \u001b[0mgraph\u001b[0m\u001b[1;33m=\u001b[0m\u001b[1;33m{\u001b[0m\u001b[1;33m}\u001b[0m\u001b[1;33m\u001b[0m\u001b[1;33m\u001b[0m\u001b[0m\n\u001b[0;32m      7\u001b[0m \u001b[0mhd\u001b[0m\u001b[1;33m=\u001b[0m\u001b[1;33m{\u001b[0m\u001b[1;33m}\u001b[0m\u001b[1;33m\u001b[0m\u001b[1;33m\u001b[0m\u001b[0m\n",
      "\u001b[1;31mValueError\u001b[0m: invalid literal for int() with base 10: ''"
     ]
    }
   ],
   "source": [
    "def find(d,m):\n",
    "    keys = [k for k, v in d.items() if v==m]\n",
    "    return keys[0]\n",
    "\n",
    "n=int(input(\"Eneter num of nodes-\"))\n",
    "graph={}\n",
    "hd={}\n",
    "for i in range(n):\n",
    "    node=int(input(\"Enter the node-\"))\n",
    "    adj=map(int,input(\"Enter the adjacent nodes of it-\").split())\n",
    "    graph[node]=adj\n",
    "for i in range(n):\n",
    "    vertex=int(input('enter vertex: '))\n",
    "    dist=int(input('enter heuristic distance: '))\n",
    "    hd[vertex]=dist\n",
    "\n",
    "src=int(input(\"Enter the source node-\"))\n",
    "Goal=int(input(\"Eneter the goal node- \"))\n",
    "visited = []\n",
    "queue = []    \n",
    "\n",
    "def bfs(visited, graph, node):\n",
    "    visited.append(node)\n",
    "    queue.append(node)\n",
    "\n",
    "    while queue:\n",
    "        sk = queue.pop(0)      \n",
    "        print (sk, end = \" \")\n",
    "        if sk==Goal:\n",
    "            break\n",
    "        m=99999\n",
    "        for i in graph[sk]:\n",
    "             if i not in visited:\n",
    "                visited.append(i)\n",
    "                if m>hd[i]:\n",
    "                    m=hd[i]\n",
    "        queue.append(find(hd,m))\n",
    "bfs(visited, graph, src)"
   ]
  },
  {
   "cell_type": "code",
   "execution_count": 7,
   "metadata": {},
   "outputs": [
    {
     "name": "stdout",
     "output_type": "stream",
     "text": [
      "[2]\n"
     ]
    }
   ],
   "source": [
    "huka={0:100,1:200,2:30,3:300}\n",
    "keys = [k for k, v in huka.items() if v == 30]\n",
    "print(keys)"
   ]
  }
 ],
 "metadata": {
  "kernelspec": {
   "display_name": "Python 3 (ipykernel)",
   "language": "python",
   "name": "python3"
  },
  "language_info": {
   "codemirror_mode": {
    "name": "ipython",
    "version": 3
   },
   "file_extension": ".py",
   "mimetype": "text/x-python",
   "name": "python",
   "nbconvert_exporter": "python",
   "pygments_lexer": "ipython3",
   "version": "3.9.13"
  }
 },
 "nbformat": 4,
 "nbformat_minor": 2
}
