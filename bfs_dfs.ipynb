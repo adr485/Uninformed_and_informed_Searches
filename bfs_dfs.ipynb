{
 "cells": [
  {
   "cell_type": "code",
   "execution_count": 1,
   "metadata": {},
   "outputs": [
    {
     "name": "stdout",
     "output_type": "stream",
     "text": [
      "Eneter num of nodes-3\n",
      "Enter the node-0\n",
      "Enter the adjacent nodes of it-1 2\n",
      "Enter the node-1\n",
      "Enter the adjacent nodes of it-1\n",
      "Enter the node-2\n",
      "Enter the adjacent nodes of it-2\n",
      "Enter the source node-0\n",
      "Eneter the goal node- 2\n",
      "0 1 2 "
     ]
    }
   ],
   "source": [
    "n=int(input(\"Eneter num of nodes-\"))\n",
    "graph={}\n",
    "for i in range(n):\n",
    "    node=int(input(\"Enter the node-\"))\n",
    "    edge=map(int,input(\"Enter the adjacent nodes of it-\").split())\n",
    "    graph[node]=edge\n",
    "A=int(input(\"Enter the source node-\"))\n",
    "Goal=int(input(\"Eneter the goal node- \"))\n",
    "visited = []\n",
    "queue = []    \n",
    "\n",
    "def bfs(visited, graph, node):\n",
    "    visited.append(node)\n",
    "    queue.append(node)\n",
    "\n",
    "    while queue:\n",
    "        s = queue.pop(0)\n",
    "        print (s, end = \" \")\n",
    "        if s==Goal:\n",
    "            break\n",
    "        for neighbour in graph[s]:\n",
    "             if neighbour not in visited:\n",
    "                visited.append(neighbour)\n",
    "                queue.append(neighbour)\n",
    "bfs(visited, graph, A)"
   ]
  },
  {
   "cell_type": "code",
   "execution_count": null,
   "metadata": {},
   "outputs": [],
   "source": [
    "n=int(input(\"Eneter num of nodes-\"))\n",
    "graph={}\n",
    "for i in range(n):\n",
    "    node=int(input(\"Enter the node-\"))\n",
    "    edge=map(int,input(\"Enter the adjacent nodes of it-\").split())\n",
    "    graph[node]=edge\n",
    "A=int(input(\"Enter the source node-\"))\n",
    "Goal=int(input(\"Eneter the goal node- \"))\n",
    "visited = []\n",
    "queue = []    \n",
    "\n",
    "def dfs(visited, graph, node):\n",
    "    visited.append(node)\n",
    "    queue.append(node)\n",
    "\n",
    "    while queue:\n",
    "        s = queue.pop(-1)\n",
    "        print (s, end = \" \")\n",
    "        if s==Goal:\n",
    "            break\n",
    "        for neighbour in graph[s]:\n",
    "             if neighbour not in visited:\n",
    "                visited.append(neighbour)\n",
    "                queue.append(neighbour)\n",
    "dfs(visited, graph, A)"
   ]
  }
 ],
 "metadata": {
  "kernelspec": {
   "display_name": "Python 3 (ipykernel)",
   "language": "python",
   "name": "python3"
  },
  "language_info": {
   "codemirror_mode": {
    "name": "ipython",
    "version": 3
   },
   "file_extension": ".py",
   "mimetype": "text/x-python",
   "name": "python",
   "nbconvert_exporter": "python",
   "pygments_lexer": "ipython3",
   "version": "3.9.13"
  }
 },
 "nbformat": 4,
 "nbformat_minor": 2
}
